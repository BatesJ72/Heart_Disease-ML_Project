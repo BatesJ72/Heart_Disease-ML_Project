{
 "cells": [
  {
   "cell_type": "code",
   "execution_count": 1,
   "metadata": {},
   "outputs": [],
   "source": [
    "%load_ext lab_black"
   ]
  },
  {
   "cell_type": "code",
   "execution_count": 2,
   "metadata": {},
   "outputs": [],
   "source": [
    "import pandas as pd\n",
    "\n",
    "from matplotlib import pyplot as plt\n",
    "import numpy as np\n",
    "\n",
    "# from sklearn.tree import export_graphviz\n",
    "# from sklearn.externals.six import StringIO\n",
    "# from IPython.display import Image\n",
    "# import pydotplus\n",
    "\n",
    "from sklearn.model_selection import train_test_split\n",
    "from sklearn.linear_model import LogisticRegression\n",
    "from sklearn.tree import DecisionTreeClassifier\n",
    "from sklearn.ensemble import RandomForestClassifier\n",
    "from sklearn.metrics import classification_report\n",
    "from sklearn.metrics import accuracy_score\n",
    "from sklearn.dummy import DummyClassifier\n",
    "from sklearn.metrics import confusion_matrix\n",
    "from sklearn.preprocessing import OneHotEncoder\n",
    "from sklearn.compose import ColumnTransformer\n",
    "from sklearn.pipeline import make_pipeline\n",
    "\n",
    "import joblib"
   ]
  },
  {
   "cell_type": "code",
   "execution_count": 3,
   "metadata": {},
   "outputs": [],
   "source": [
    "# read in data\n",
    "df = pd.read_csv(\"heart_disease_data.csv\")"
   ]
  },
  {
   "cell_type": "code",
   "execution_count": 4,
   "metadata": {},
   "outputs": [
    {
     "data": {
      "text/plain": [
       "age            int64\n",
       "sex            int64\n",
       "cp             int64\n",
       "trestbps       int64\n",
       "chol           int64\n",
       "fbs            int64\n",
       "restecg        int64\n",
       "thalach        int64\n",
       "exang          int64\n",
       "oldpeak      float64\n",
       "slope          int64\n",
       "ca             int64\n",
       "thal           int64\n",
       "condition      int64\n",
       "dtype: object"
      ]
     },
     "execution_count": 4,
     "metadata": {},
     "output_type": "execute_result"
    }
   ],
   "source": [
    "# df.columns\n",
    "df.dtypes"
   ]
  },
  {
   "cell_type": "code",
   "execution_count": 5,
   "metadata": {},
   "outputs": [
    {
     "data": {
      "text/html": [
       "<div>\n",
       "<style scoped>\n",
       "    .dataframe tbody tr th:only-of-type {\n",
       "        vertical-align: middle;\n",
       "    }\n",
       "\n",
       "    .dataframe tbody tr th {\n",
       "        vertical-align: top;\n",
       "    }\n",
       "\n",
       "    .dataframe thead th {\n",
       "        text-align: right;\n",
       "    }\n",
       "</style>\n",
       "<table border=\"1\" class=\"dataframe\">\n",
       "  <thead>\n",
       "    <tr style=\"text-align: right;\">\n",
       "      <th></th>\n",
       "      <th>age</th>\n",
       "      <th>sex</th>\n",
       "      <th>cp</th>\n",
       "      <th>trestbps</th>\n",
       "      <th>chol</th>\n",
       "      <th>fbs</th>\n",
       "      <th>restecg</th>\n",
       "      <th>thalach</th>\n",
       "      <th>exang</th>\n",
       "      <th>oldpeak</th>\n",
       "      <th>slope</th>\n",
       "      <th>ca</th>\n",
       "      <th>thal</th>\n",
       "      <th>condition</th>\n",
       "    </tr>\n",
       "  </thead>\n",
       "  <tbody>\n",
       "    <tr>\n",
       "      <th>0</th>\n",
       "      <td>69</td>\n",
       "      <td>1</td>\n",
       "      <td>0</td>\n",
       "      <td>160</td>\n",
       "      <td>234</td>\n",
       "      <td>1</td>\n",
       "      <td>2</td>\n",
       "      <td>131</td>\n",
       "      <td>0</td>\n",
       "      <td>0.1</td>\n",
       "      <td>1</td>\n",
       "      <td>1</td>\n",
       "      <td>0</td>\n",
       "      <td>0</td>\n",
       "    </tr>\n",
       "    <tr>\n",
       "      <th>1</th>\n",
       "      <td>69</td>\n",
       "      <td>0</td>\n",
       "      <td>0</td>\n",
       "      <td>140</td>\n",
       "      <td>239</td>\n",
       "      <td>0</td>\n",
       "      <td>0</td>\n",
       "      <td>151</td>\n",
       "      <td>0</td>\n",
       "      <td>1.8</td>\n",
       "      <td>0</td>\n",
       "      <td>2</td>\n",
       "      <td>0</td>\n",
       "      <td>0</td>\n",
       "    </tr>\n",
       "    <tr>\n",
       "      <th>2</th>\n",
       "      <td>66</td>\n",
       "      <td>0</td>\n",
       "      <td>0</td>\n",
       "      <td>150</td>\n",
       "      <td>226</td>\n",
       "      <td>0</td>\n",
       "      <td>0</td>\n",
       "      <td>114</td>\n",
       "      <td>0</td>\n",
       "      <td>2.6</td>\n",
       "      <td>2</td>\n",
       "      <td>0</td>\n",
       "      <td>0</td>\n",
       "      <td>0</td>\n",
       "    </tr>\n",
       "    <tr>\n",
       "      <th>3</th>\n",
       "      <td>65</td>\n",
       "      <td>1</td>\n",
       "      <td>0</td>\n",
       "      <td>138</td>\n",
       "      <td>282</td>\n",
       "      <td>1</td>\n",
       "      <td>2</td>\n",
       "      <td>174</td>\n",
       "      <td>0</td>\n",
       "      <td>1.4</td>\n",
       "      <td>1</td>\n",
       "      <td>1</td>\n",
       "      <td>0</td>\n",
       "      <td>1</td>\n",
       "    </tr>\n",
       "    <tr>\n",
       "      <th>4</th>\n",
       "      <td>64</td>\n",
       "      <td>1</td>\n",
       "      <td>0</td>\n",
       "      <td>110</td>\n",
       "      <td>211</td>\n",
       "      <td>0</td>\n",
       "      <td>2</td>\n",
       "      <td>144</td>\n",
       "      <td>1</td>\n",
       "      <td>1.8</td>\n",
       "      <td>1</td>\n",
       "      <td>0</td>\n",
       "      <td>0</td>\n",
       "      <td>0</td>\n",
       "    </tr>\n",
       "  </tbody>\n",
       "</table>\n",
       "</div>"
      ],
      "text/plain": [
       "   age  sex  cp  trestbps  chol  fbs  restecg  thalach  exang  oldpeak  slope  \\\n",
       "0   69    1   0       160   234    1        2      131      0      0.1      1   \n",
       "1   69    0   0       140   239    0        0      151      0      1.8      0   \n",
       "2   66    0   0       150   226    0        0      114      0      2.6      2   \n",
       "3   65    1   0       138   282    1        2      174      0      1.4      1   \n",
       "4   64    1   0       110   211    0        2      144      1      1.8      1   \n",
       "\n",
       "   ca  thal  condition  \n",
       "0   1     0          0  \n",
       "1   2     0          0  \n",
       "2   0     0          0  \n",
       "3   1     0          1  \n",
       "4   0     0          0  "
      ]
     },
     "execution_count": 5,
     "metadata": {},
     "output_type": "execute_result"
    }
   ],
   "source": [
    "df.head()"
   ]
  },
  {
   "cell_type": "code",
   "execution_count": 6,
   "metadata": {},
   "outputs": [
    {
     "data": {
      "text/plain": [
       "Index(['age', 'sex', 'cp', 'trestbps', 'chol', 'fbs', 'thalach', 'exang',\n",
       "       'condition'],\n",
       "      dtype='object')"
      ]
     },
     "execution_count": 6,
     "metadata": {},
     "output_type": "execute_result"
    }
   ],
   "source": [
    "# drop unused columns\n",
    "df = (\n",
    "    df.drop(\"restecg\", axis=1)\n",
    "    .drop(\"oldpeak\", axis=1)\n",
    "    .drop(\"slope\", axis=1)\n",
    "    .drop(\"ca\", axis=1)\n",
    "    .drop(\"thal\", axis=1)\n",
    ")\n",
    "df.columns"
   ]
  },
  {
   "cell_type": "code",
   "execution_count": 7,
   "metadata": {},
   "outputs": [
    {
     "data": {
      "text/plain": [
       "0    160\n",
       "1    137\n",
       "Name: condition, dtype: int64"
      ]
     },
     "execution_count": 7,
     "metadata": {},
     "output_type": "execute_result"
    }
   ],
   "source": [
    "df[\"condition\"].value_counts()"
   ]
  },
  {
   "cell_type": "code",
   "execution_count": 8,
   "metadata": {},
   "outputs": [],
   "source": [
    "# rename condition\n",
    "# df = df.assign(\n",
    "#     exang=lambda df: df[\"condition\"].replace(\n",
    "#         {0: \"No Heart Disease\", 1: \"Yes Heart Disease\"}\n",
    "#     )\n",
    "# )"
   ]
  },
  {
   "cell_type": "code",
   "execution_count": 9,
   "metadata": {},
   "outputs": [],
   "source": [
    "# rename exang: exercise induced angina (1 = yes; 0 = no)\n",
    "df = df.assign(exang=lambda df: df[\"exang\"].replace({0: \"no\", 1: \"yes\"}))"
   ]
  },
  {
   "cell_type": "code",
   "execution_count": 10,
   "metadata": {},
   "outputs": [],
   "source": [
    "# rename fbs: (fasting blood sugar > 120 mg/dl) (1 = true; 0 = false)\n",
    "df = df.assign(fbs=lambda df: df[\"fbs\"].replace({0: \"false\", 1: \"true\"}))"
   ]
  },
  {
   "cell_type": "code",
   "execution_count": 11,
   "metadata": {},
   "outputs": [],
   "source": [
    "# rename cp: chest pain type\n",
    "df = df.assign(\n",
    "    cp=lambda df: df[\"cp\"].replace(\n",
    "        {\n",
    "            0: \"typical angina\",\n",
    "            1: \"atypical angina\",\n",
    "            2: \"non-anginal pain\",\n",
    "            3: \"asymptomatic\",\n",
    "        }\n",
    "    )\n",
    ")"
   ]
  },
  {
   "cell_type": "code",
   "execution_count": 12,
   "metadata": {},
   "outputs": [],
   "source": [
    "target = \"condition\""
   ]
  },
  {
   "cell_type": "code",
   "execution_count": 13,
   "metadata": {},
   "outputs": [],
   "source": [
    "y = df[target].values\n",
    "X = df.drop(target, axis=1)"
   ]
  },
  {
   "cell_type": "code",
   "execution_count": 14,
   "metadata": {},
   "outputs": [
    {
     "data": {
      "text/plain": [
       "array([0, 0, 0, 1, 0, 0, 0, 1, 0, 0, 1, 1, 1, 0, 0, 0, 0, 0, 1, 0, 0, 1,\n",
       "       0, 0, 0, 0, 1, 0, 1, 0, 0, 1, 1, 1, 1, 1, 0, 0, 0, 0, 0, 0, 0, 0,\n",
       "       0, 1, 0, 0, 0, 0, 0, 0, 1, 0, 0, 0, 0, 0, 0, 0, 0, 0, 0, 0, 0, 0,\n",
       "       0, 0, 0, 0, 0, 0, 0, 0, 1, 1, 1, 0, 0, 0, 1, 0, 0, 0, 0, 0, 1, 1,\n",
       "       0, 0, 0, 1, 0, 1, 0, 0, 1, 0, 1, 0, 1, 0, 0, 1, 0, 0, 1, 0, 0, 0,\n",
       "       0, 0, 0, 0, 0, 0, 0, 0, 0, 0, 0, 0, 0, 0, 0, 0, 1, 0, 1, 1, 0, 0,\n",
       "       0, 1, 0, 0, 1, 0, 0, 0, 0, 0, 0, 0, 0, 0, 0, 0, 0, 0, 0, 0, 0, 0,\n",
       "       0, 1, 0, 1, 1, 1, 1, 1, 1, 1, 1, 0, 0, 1, 1, 0, 1, 1, 0, 1, 1, 1,\n",
       "       0, 0, 0, 1, 1, 1, 1, 1, 1, 1, 1, 1, 0, 1, 1, 0, 1, 1, 1, 1, 1, 1,\n",
       "       1, 1, 1, 1, 1, 1, 1, 1, 1, 0, 1, 1, 1, 1, 0, 1, 1, 0, 1, 1, 0, 1,\n",
       "       1, 1, 1, 0, 1, 1, 1, 0, 1, 1, 1, 0, 0, 0, 1, 1, 1, 1, 1, 1, 1, 1,\n",
       "       1, 1, 1, 1, 1, 1, 1, 0, 1, 0, 1, 0, 0, 1, 0, 1, 1, 1, 1, 0, 1, 1,\n",
       "       1, 0, 0, 1, 0, 1, 1, 0, 0, 1, 1, 0, 0, 1, 0, 1, 1, 1, 1, 1, 0, 0,\n",
       "       0, 0, 1, 0, 1, 1, 1, 1, 1, 0, 1])"
      ]
     },
     "execution_count": 14,
     "metadata": {},
     "output_type": "execute_result"
    }
   ],
   "source": [
    "y"
   ]
  },
  {
   "cell_type": "code",
   "execution_count": 15,
   "metadata": {},
   "outputs": [
    {
     "data": {
      "text/plain": [
       "Index(['age', 'sex', 'cp', 'trestbps', 'chol', 'fbs', 'thalach', 'exang'], dtype='object')"
      ]
     },
     "execution_count": 15,
     "metadata": {},
     "output_type": "execute_result"
    }
   ],
   "source": [
    "X.columns"
   ]
  },
  {
   "cell_type": "code",
   "execution_count": 16,
   "metadata": {},
   "outputs": [],
   "source": [
    "cf = ColumnTransformer(\n",
    "    [\n",
    "        (\"numerical\", \"passthrough\", [\"age\", \"trestbps\", \"chol\", \"thalach\"],),\n",
    "        ('\"categorical\"', OneHotEncoder(drop=\"first\"), [\"sex\", \"cp\", \"fbs\", \"exang\"]),\n",
    "    ]\n",
    ")"
   ]
  },
  {
   "cell_type": "code",
   "execution_count": 17,
   "metadata": {},
   "outputs": [],
   "source": [
    "X_train, X_test, y_train, y_test = train_test_split(X, y, random_state=42, stratify=y)"
   ]
  },
  {
   "cell_type": "code",
   "execution_count": 18,
   "metadata": {},
   "outputs": [
    {
     "name": "stdout",
     "output_type": "stream",
     "text": [
      "              precision    recall  f1-score   support\n",
      "\n",
      "           0       0.53      1.00      0.70        40\n",
      "           1       0.00      0.00      0.00        35\n",
      "\n",
      "    accuracy                           0.53        75\n",
      "   macro avg       0.27      0.50      0.35        75\n",
      "weighted avg       0.28      0.53      0.37        75\n",
      "\n"
     ]
    },
    {
     "name": "stderr",
     "output_type": "stream",
     "text": [
      "/home/jupyter/.local/lib/python3.7/site-packages/sklearn/metrics/_classification.py:1245: UndefinedMetricWarning: Precision and F-score are ill-defined and being set to 0.0 in labels with no predicted samples. Use `zero_division` parameter to control this behavior.\n",
      "  _warn_prf(average, modifier, msg_start, len(result))\n",
      "/home/jupyter/.local/lib/python3.7/site-packages/sklearn/metrics/_classification.py:1245: UndefinedMetricWarning: Precision and F-score are ill-defined and being set to 0.0 in labels with no predicted samples. Use `zero_division` parameter to control this behavior.\n",
      "  _warn_prf(average, modifier, msg_start, len(result))\n",
      "/home/jupyter/.local/lib/python3.7/site-packages/sklearn/metrics/_classification.py:1245: UndefinedMetricWarning: Precision and F-score are ill-defined and being set to 0.0 in labels with no predicted samples. Use `zero_division` parameter to control this behavior.\n",
      "  _warn_prf(average, modifier, msg_start, len(result))\n"
     ]
    }
   ],
   "source": [
    "# Dummy Classifier\n",
    "\n",
    "d_pipeline = make_pipeline(cf, DummyClassifier())\n",
    "d_pipeline.fit(X_train, y_train)\n",
    "y_test_pred_dc = d_pipeline.predict(X_test)\n",
    "print(classification_report(y_test, y_test_pred_dc))"
   ]
  },
  {
   "cell_type": "code",
   "execution_count": 19,
   "metadata": {},
   "outputs": [
    {
     "data": {
      "text/plain": [
       "0.5333333333333333"
      ]
     },
     "execution_count": 19,
     "metadata": {},
     "output_type": "execute_result"
    }
   ],
   "source": [
    "# accuracy score for Dummy Classifier\n",
    "\n",
    "accuracy_score(y_test, y_test_pred_dc)"
   ]
  },
  {
   "cell_type": "code",
   "execution_count": 49,
   "metadata": {},
   "outputs": [
    {
     "name": "stdout",
     "output_type": "stream",
     "text": [
      "              precision    recall  f1-score   support\n",
      "\n",
      "           0       0.76      0.85      0.80        40\n",
      "           1       0.80      0.69      0.74        35\n",
      "\n",
      "    accuracy                           0.77        75\n",
      "   macro avg       0.78      0.77      0.77        75\n",
      "weighted avg       0.78      0.77      0.77        75\n",
      "\n"
     ]
    },
    {
     "name": "stderr",
     "output_type": "stream",
     "text": [
      "/home/jupyter/.local/lib/python3.7/site-packages/sklearn/linear_model/_logistic.py:765: ConvergenceWarning: lbfgs failed to converge (status=1):\n",
      "STOP: TOTAL NO. of ITERATIONS REACHED LIMIT.\n",
      "\n",
      "Increase the number of iterations (max_iter) or scale the data as shown in:\n",
      "    https://scikit-learn.org/stable/modules/preprocessing.html\n",
      "Please also refer to the documentation for alternative solver options:\n",
      "    https://scikit-learn.org/stable/modules/linear_model.html#logistic-regression\n",
      "  extra_warning_msg=_LOGISTIC_SOLVER_CONVERGENCE_MSG)\n"
     ]
    }
   ],
   "source": [
    "# Logistic Regression Model\n",
    "\n",
    "lr_pipeline = make_pipeline(cf, LogisticRegression())\n",
    "lr_pipeline.fit(X_train, y_train)\n",
    "y_test_pred_lr = lr_pipeline.predict(X_test)\n",
    "print(classification_report(y_test, y_test_pred_lr))"
   ]
  },
  {
   "cell_type": "code",
   "execution_count": 50,
   "metadata": {},
   "outputs": [
    {
     "data": {
      "text/plain": [
       "0.7733333333333333"
      ]
     },
     "execution_count": 50,
     "metadata": {},
     "output_type": "execute_result"
    }
   ],
   "source": [
    "# accuracy score for Logistic Regression Model\n",
    "\n",
    "accuracy_score(y_test, y_test_pred_lr)"
   ]
  },
  {
   "cell_type": "code",
   "execution_count": 53,
   "metadata": {},
   "outputs": [
    {
     "name": "stdout",
     "output_type": "stream",
     "text": [
      "              precision    recall  f1-score   support\n",
      "\n",
      "           0       0.66      0.78      0.71        40\n",
      "           1       0.68      0.54      0.60        35\n",
      "\n",
      "    accuracy                           0.67        75\n",
      "   macro avg       0.67      0.66      0.66        75\n",
      "weighted avg       0.67      0.67      0.66        75\n",
      "\n"
     ]
    }
   ],
   "source": [
    "# Decision Tree Model (unpruned)\n",
    "\n",
    "dt_pipeline = make_pipeline(cf, DecisionTreeClassifier())\n",
    "dt_pipeline.fit(X_train, y_train)\n",
    "y_test_pred_dt = dt_pipeline.predict(X_test)\n",
    "print(classification_report(y_test, y_test_pred_dt))"
   ]
  },
  {
   "cell_type": "code",
   "execution_count": 54,
   "metadata": {},
   "outputs": [
    {
     "data": {
      "text/plain": [
       "0.6666666666666666"
      ]
     },
     "execution_count": 54,
     "metadata": {},
     "output_type": "execute_result"
    }
   ],
   "source": [
    "# accuracy score for decision tree model (unpruned)\n",
    "\n",
    "accuracy_score(y_test, y_test_pred_dt)"
   ]
  },
  {
   "cell_type": "code",
   "execution_count": 24,
   "metadata": {},
   "outputs": [],
   "source": [
    "# Unpruned Tree\n",
    "\n",
    "# dot_data = StringIO()\n",
    "# export_graphviz(dt, out_file=dot_data)\n",
    "# graph = pydotplus.graph_from_dot_data(dot_data.getvalue())\n",
    "# graph.write_png(\"tree.png\")\n",
    "# Image(graph.create_png())"
   ]
  },
  {
   "cell_type": "code",
   "execution_count": 57,
   "metadata": {},
   "outputs": [
    {
     "name": "stdout",
     "output_type": "stream",
     "text": [
      "Criterion=gini               precision    recall  f1-score   support\n",
      "\n",
      "           0       0.61      0.70      0.65        40\n",
      "           1       0.59      0.49      0.53        35\n",
      "\n",
      "    accuracy                           0.60        75\n",
      "   macro avg       0.60      0.59      0.59        75\n",
      "weighted avg       0.60      0.60      0.60        75\n",
      "\n"
     ]
    }
   ],
   "source": [
    "# Prune the tree - gini\n",
    "\n",
    "dt_pipeline_p1 = make_pipeline(cf, DecisionTreeClassifier(criterion=\"gini\"))\n",
    "dt_pipeline_p1.fit(X_train, y_train)\n",
    "y_test_pred_dt_p1 = dt_pipeline_p1.predict(X_test)\n",
    "print(\"Criterion=gini\", classification_report(y_test, y_test_pred_dt_p1))"
   ]
  },
  {
   "cell_type": "code",
   "execution_count": 58,
   "metadata": {},
   "outputs": [
    {
     "data": {
      "text/plain": [
       "0.6"
      ]
     },
     "execution_count": 58,
     "metadata": {},
     "output_type": "execute_result"
    }
   ],
   "source": [
    "# accuracy score for decision tree model using gini\n",
    "\n",
    "accuracy_score(y_test, y_test_pred_dt_p1)"
   ]
  },
  {
   "cell_type": "code",
   "execution_count": 61,
   "metadata": {},
   "outputs": [
    {
     "name": "stdout",
     "output_type": "stream",
     "text": [
      "Criterion=entropy               precision    recall  f1-score   support\n",
      "\n",
      "           0       0.62      0.60      0.61        40\n",
      "           1       0.56      0.57      0.56        35\n",
      "\n",
      "    accuracy                           0.59        75\n",
      "   macro avg       0.59      0.59      0.59        75\n",
      "weighted avg       0.59      0.59      0.59        75\n",
      "\n"
     ]
    }
   ],
   "source": [
    "# Prune the tree - entropy\n",
    "\n",
    "dt_pipeline_p2 = make_pipeline(cf, DecisionTreeClassifier(criterion=\"entropy\"))\n",
    "dt_pipeline_p2.fit(X_train, y_train)\n",
    "y_test_pred_dt_p2 = dt_pipeline_p2.predict(X_test)\n",
    "print(\"Criterion=entropy\", classification_report(y_test, y_test_pred_dt_p2))"
   ]
  },
  {
   "cell_type": "code",
   "execution_count": 62,
   "metadata": {},
   "outputs": [
    {
     "data": {
      "text/plain": [
       "0.5866666666666667"
      ]
     },
     "execution_count": 62,
     "metadata": {},
     "output_type": "execute_result"
    }
   ],
   "source": [
    "# accuracy score for decision tree model using entropy\n",
    "\n",
    "accuracy_score(y_test, y_test_pred_dt_p2)"
   ]
  },
  {
   "cell_type": "code",
   "execution_count": 66,
   "metadata": {},
   "outputs": [
    {
     "data": {
      "text/plain": [
       "<matplotlib.legend.Legend at 0x7f01bde90bd0>"
      ]
     },
     "execution_count": 66,
     "metadata": {},
     "output_type": "execute_result"
    },
    {
     "data": {
      "image/png": "[encoded data removed]",
      "text/plain": [
       "<Figure size 432x288 with 1 Axes>"
      ]
     },
     "metadata": {
      "needs_background": "light"
     },
     "output_type": "display_data"
    }
   ],
   "source": [
    "# Prune the tree - loop to find best depth\n",
    "\n",
    "max_depth_dt = []\n",
    "acc_gini_dt = []\n",
    "acc_entropy_dt = []\n",
    "for i in range(1, 30):\n",
    "    dt_pipeline_p3 = make_pipeline(\n",
    "        cf, DecisionTreeClassifier(criterion=\"gini\", max_depth=i)\n",
    "    )\n",
    "    dt_pipeline_p3.fit(X_train, y_train)\n",
    "    pred_g_dt = dt_pipeline_p3.predict(X_test)\n",
    "    acc_gini_dt.append(accuracy_score(y_test, pred_g_dt))\n",
    "\n",
    "    dt_pipeline_p4 = make_pipeline(\n",
    "        cf, DecisionTreeClassifier(criterion=\"entropy\", max_depth=i)\n",
    "    )\n",
    "    dt_pipeline_p4.fit(X_train, y_train)\n",
    "    pred_e_dt = dt_pipeline_p4.predict(X_test)\n",
    "    acc_entropy_dt.append(accuracy_score(y_test, pred_e_dt))\n",
    "\n",
    "    max_depth_dt.append(i)\n",
    "\n",
    "df_dt = pd.DataFrame(\n",
    "    {\n",
    "        \"acc_gini_dt\": pd.Series(acc_gini_dt),\n",
    "        \"acc_entropy_dt\": pd.Series(acc_entropy_dt),\n",
    "        \"max_depth_dt\": pd.Series(max_depth_dt),\n",
    "    }\n",
    ")\n",
    "\n",
    "# visualizing changes in parameters\n",
    "plt.plot(\"max_depth_dt\", \"acc_gini_dt\", data=df_dt, label=\"gini\")\n",
    "plt.plot(\"max_depth_dt\", \"acc_entropy_dt\", data=df_dt, label=\"entropy\")\n",
    "plt.xlabel(\"Depth\")\n",
    "plt.ylabel(\"Accuracy Score\")\n",
    "plt.legend()"
   ]
  },
  {
   "cell_type": "code",
   "execution_count": 67,
   "metadata": {},
   "outputs": [
    {
     "name": "stdout",
     "output_type": "stream",
     "text": [
      "Criterion=gini               precision    recall  f1-score   support\n",
      "\n",
      "           0       0.80      0.70      0.75        40\n",
      "           1       0.70      0.80      0.75        35\n",
      "\n",
      "    accuracy                           0.75        75\n",
      "   macro avg       0.75      0.75      0.75        75\n",
      "weighted avg       0.75      0.75      0.75        75\n",
      "\n"
     ]
    }
   ],
   "source": [
    "# Prune tree at 5 using gini\n",
    "\n",
    "dt_p_fin = make_pipeline(cf, DecisionTreeClassifier(criterion=\"gini\", max_depth=5))\n",
    "dt_p_fin.fit(X_train, y_train)\n",
    "y_test_pred_dt_p_fin = dt_p_fin.predict(X_test)\n",
    "print(\"Criterion=gini\", classification_report(y_test, y_test_pred_dt_p_fin))"
   ]
  },
  {
   "cell_type": "code",
   "execution_count": 68,
   "metadata": {},
   "outputs": [
    {
     "data": {
      "text/plain": [
       "0.7466666666666667"
      ]
     },
     "execution_count": 68,
     "metadata": {},
     "output_type": "execute_result"
    }
   ],
   "source": [
    "# accuracy score for decision tree model pruned at 5 using gini\n",
    "\n",
    "accuracy_score(y_test, y_test_pred_dt_p_fin)"
   ]
  },
  {
   "cell_type": "code",
   "execution_count": 32,
   "metadata": {},
   "outputs": [],
   "source": [
    "# Graphic for decision tree model pruned at 5 using gini\n",
    "\n",
    "# dot_data = StringIO()\n",
    "# export_graphviz(dt_p_fin, out_file=dot_data)\n",
    "# graph = pydotplus.graph_from_dot_data(dot_data.getvalue())\n",
    "# graph.write_png(\"tree.png\")\n",
    "# Image(graph.create_png())"
   ]
  },
  {
   "cell_type": "code",
   "execution_count": 75,
   "metadata": {},
   "outputs": [
    {
     "name": "stdout",
     "output_type": "stream",
     "text": [
      "              precision    recall  f1-score   support\n",
      "\n",
      "           0       0.74      0.80      0.77        40\n",
      "           1       0.75      0.69      0.72        35\n",
      "\n",
      "    accuracy                           0.75        75\n",
      "   macro avg       0.75      0.74      0.74        75\n",
      "weighted avg       0.75      0.75      0.75        75\n",
      "\n"
     ]
    }
   ],
   "source": [
    "# Random Forest Model\n",
    "\n",
    "rf_pipeline = make_pipeline(cf, RandomForestClassifier())\n",
    "rf_pipeline.fit(X_train, y_train)\n",
    "y_test_pred_rf = rf_pipeline.predict(X_test)\n",
    "print(classification_report(y_test, y_test_pred_rf))"
   ]
  },
  {
   "cell_type": "code",
   "execution_count": 76,
   "metadata": {},
   "outputs": [
    {
     "data": {
      "text/plain": [
       "0.7466666666666667"
      ]
     },
     "execution_count": 76,
     "metadata": {},
     "output_type": "execute_result"
    }
   ],
   "source": [
    "# accuracy score for random forest model (unpruned)\n",
    "\n",
    "accuracy_score(y_test, y_test_pred_rf)"
   ]
  },
  {
   "cell_type": "code",
   "execution_count": 79,
   "metadata": {},
   "outputs": [
    {
     "name": "stdout",
     "output_type": "stream",
     "text": [
      "Criterion=gini               precision    recall  f1-score   support\n",
      "\n",
      "           0       0.74      0.80      0.77        40\n",
      "           1       0.75      0.69      0.72        35\n",
      "\n",
      "    accuracy                           0.75        75\n",
      "   macro avg       0.75      0.74      0.74        75\n",
      "weighted avg       0.75      0.75      0.75        75\n",
      "\n"
     ]
    }
   ],
   "source": [
    "# Prune the forest - gini\n",
    "\n",
    "rf_pipeline_p1 = make_pipeline(cf, RandomForestClassifier(criterion=\"gini\"))\n",
    "rf_pipeline_p1.fit(X_train, y_train)\n",
    "y_test_pred_rf_p1 = rf_pipeline_p1.predict(X_test)\n",
    "print(\"Criterion=gini\", classification_report(y_test, y_test_pred_rf_p1))"
   ]
  },
  {
   "cell_type": "code",
   "execution_count": 80,
   "metadata": {},
   "outputs": [
    {
     "data": {
      "text/plain": [
       "0.7466666666666667"
      ]
     },
     "execution_count": 80,
     "metadata": {},
     "output_type": "execute_result"
    }
   ],
   "source": [
    "# accuracy score for random forest model using gini\n",
    "\n",
    "accuracy_score(y_test, y_test_pred_rf_p1)"
   ]
  },
  {
   "cell_type": "code",
   "execution_count": 83,
   "metadata": {},
   "outputs": [
    {
     "name": "stdout",
     "output_type": "stream",
     "text": [
      "Criterion=entropy               precision    recall  f1-score   support\n",
      "\n",
      "           0       0.74      0.78      0.76        40\n",
      "           1       0.73      0.69      0.71        35\n",
      "\n",
      "    accuracy                           0.73        75\n",
      "   macro avg       0.73      0.73      0.73        75\n",
      "weighted avg       0.73      0.73      0.73        75\n",
      "\n"
     ]
    }
   ],
   "source": [
    "# Prune the forest - entropy\n",
    "\n",
    "rf_pipeline_p2 = make_pipeline(cf, RandomForestClassifier(criterion=\"entropy\"))\n",
    "rf_pipeline_p2.fit(X_train, y_train)\n",
    "y_test_pred_rf_p2 = rf_pipeline_p2.predict(X_test)\n",
    "print(\"Criterion=entropy\", classification_report(y_test, y_test_pred_rf_p2))"
   ]
  },
  {
   "cell_type": "code",
   "execution_count": 84,
   "metadata": {},
   "outputs": [
    {
     "data": {
      "text/plain": [
       "0.7333333333333333"
      ]
     },
     "execution_count": 84,
     "metadata": {},
     "output_type": "execute_result"
    }
   ],
   "source": [
    "# accuracy score for random forest model using entropy\n",
    "\n",
    "accuracy_score(y_test, y_test_pred_rf_p2)"
   ]
  },
  {
   "cell_type": "code",
   "execution_count": 91,
   "metadata": {},
   "outputs": [
    {
     "data": {
      "text/plain": [
       "<matplotlib.legend.Legend at 0x7f01bdc5a6d0>"
      ]
     },
     "execution_count": 91,
     "metadata": {},
     "output_type": "execute_result"
    },
    {
     "data": {
      "image/png": "[encoded data removed]",
      "text/plain": [
       "<Figure size 432x288 with 1 Axes>"
      ]
     },
     "metadata": {
      "needs_background": "light"
     },
     "output_type": "display_data"
    }
   ],
   "source": [
    "# Prune the forest - loop to find best depth\n",
    "\n",
    "max_depth_rf = []\n",
    "acc_gini_rf = []\n",
    "acc_entropy_rf = []\n",
    "for i in range(1, 30):\n",
    "    rf_pipeline_p3 = make_pipeline(\n",
    "        cf, RandomForestClassifier(criterion=\"gini\", max_depth=i)\n",
    "    )\n",
    "    rf_pipeline_p3.fit(X_train, y_train)\n",
    "    pred_g_rf = rf_pipeline_p3.predict(X_test)\n",
    "    acc_gini_rf.append(accuracy_score(y_test, pred_g_rf))\n",
    "\n",
    "    rf_pipeline_p4 = make_pipeline(\n",
    "        cf, RandomForestClassifier(criterion=\"entropy\", max_depth=i)\n",
    "    )\n",
    "    rf_pipeline_p4.fit(X_train, y_train)\n",
    "    pred_e_rf = rf_pipeline_p4.predict(X_test)\n",
    "    acc_entropy_rf.append(accuracy_score(y_test, pred_e_rf))\n",
    "\n",
    "    max_depth_rf.append(i)\n",
    "\n",
    "df_rf = pd.DataFrame(\n",
    "    {\n",
    "        \"acc_gini_rf\": pd.Series(acc_gini_rf),\n",
    "        \"acc_entropy_rf\": pd.Series(acc_entropy_rf),\n",
    "        \"max_depth_rf\": pd.Series(max_depth_rf),\n",
    "    }\n",
    ")\n",
    "\n",
    "# visualizing changes in parameters\n",
    "plt.plot(\"max_depth_rf\", \"acc_gini_rf\", data=df_rf, label=\"gini\")\n",
    "plt.plot(\"max_depth_rf\", \"acc_entropy_rf\", data=df_rf, label=\"entropy\")\n",
    "plt.xlabel(\"Depth\")\n",
    "plt.ylabel(\"Accuracy Score\")\n",
    "plt.legend()"
   ]
  },
  {
   "cell_type": "code",
   "execution_count": 89,
   "metadata": {},
   "outputs": [
    {
     "name": "stdout",
     "output_type": "stream",
     "text": [
      "Criterion=entropy               precision    recall  f1-score   support\n",
      "\n",
      "           0       0.74      0.80      0.77        40\n",
      "           1       0.75      0.69      0.72        35\n",
      "\n",
      "    accuracy                           0.75        75\n",
      "   macro avg       0.75      0.74      0.74        75\n",
      "weighted avg       0.75      0.75      0.75        75\n",
      "\n"
     ]
    }
   ],
   "source": [
    "# Prune forest using entropy at 14\n",
    "\n",
    "rf_p_fin = make_pipeline(cf, RandomForestClassifier(criterion=\"entropy\", max_depth=14))\n",
    "rf_p_fin.fit(X_train, y_train)\n",
    "y_test_pred_rf_p_fin = rf_p_fin.predict(X_test)\n",
    "print(\"Criterion=entropy\", classification_report(y_test, y_test_pred_rf_p_fin))"
   ]
  },
  {
   "cell_type": "code",
   "execution_count": 90,
   "metadata": {},
   "outputs": [
    {
     "data": {
      "text/plain": [
       "0.7466666666666667"
      ]
     },
     "execution_count": 90,
     "metadata": {},
     "output_type": "execute_result"
    }
   ],
   "source": [
    "# accuracy score for  forest using entropy at 14\n",
    "\n",
    "accuracy_score(y_test, y_test_pred_rf_p_fin)"
   ]
  },
  {
   "cell_type": "code",
   "execution_count": 92,
   "metadata": {},
   "outputs": [
    {
     "name": "stderr",
     "output_type": "stream",
     "text": [
      "/home/jupyter/.local/lib/python3.7/site-packages/sklearn/linear_model/_logistic.py:765: ConvergenceWarning: lbfgs failed to converge (status=1):\n",
      "STOP: TOTAL NO. of ITERATIONS REACHED LIMIT.\n",
      "\n",
      "Increase the number of iterations (max_iter) or scale the data as shown in:\n",
      "    https://scikit-learn.org/stable/modules/preprocessing.html\n",
      "Please also refer to the documentation for alternative solver options:\n",
      "    https://scikit-learn.org/stable/modules/linear_model.html#logistic-regression\n",
      "  extra_warning_msg=_LOGISTIC_SOLVER_CONVERGENCE_MSG)\n"
     ]
    },
    {
     "data": {
      "text/plain": [
       "Pipeline(steps=[('columntransformer',\n",
       "                 ColumnTransformer(transformers=[('numerical', 'passthrough',\n",
       "                                                  ['age', 'trestbps', 'chol',\n",
       "                                                   'thalach']),\n",
       "                                                 ('\"categorical\"',\n",
       "                                                  OneHotEncoder(drop='first'),\n",
       "                                                  ['sex', 'cp', 'fbs',\n",
       "                                                   'exang'])])),\n",
       "                ('logisticregression', LogisticRegression())])"
      ]
     },
     "execution_count": 92,
     "metadata": {},
     "output_type": "execute_result"
    }
   ],
   "source": [
    "lr_pipeline.fit(X, y)"
   ]
  },
  {
   "cell_type": "code",
   "execution_count": null,
   "metadata": {},
   "outputs": [],
   "source": [
    "# lr_pipeline.predict([[65, 0, 3, 110, 264, 1, 131, 1]])[0]"
   ]
  },
  {
   "cell_type": "code",
   "execution_count": 44,
   "metadata": {},
   "outputs": [],
   "source": [
    "# joblib.dump(lr_pipeline, \"clf.joblib\")"
   ]
  },
  {
   "cell_type": "code",
   "execution_count": null,
   "metadata": {},
   "outputs": [],
   "source": []
  }
 ],
 "metadata": {
  "environment": {
   "name": "common-cpu.m54",
   "type": "gcloud",
   "uri": "gcr.io/deeplearning-platform-release/base-cpu:m54"
  },
  "kernelspec": {
   "display_name": "Python 3",
   "language": "python",
   "name": "python3"
  },
  "language_info": {
   "codemirror_mode": {
    "name": "ipython",
    "version": 3
   },
   "file_extension": ".py",
   "mimetype": "text/x-python",
   "name": "python",
   "nbconvert_exporter": "python",
   "pygments_lexer": "ipython3",
   "version": "3.7.8"
  }
 },
 "nbformat": 4,
 "nbformat_minor": 4
}
