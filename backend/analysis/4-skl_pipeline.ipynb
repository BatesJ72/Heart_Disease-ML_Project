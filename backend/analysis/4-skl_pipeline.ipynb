{
 "cells": [
  {
   "cell_type": "code",
   "execution_count": 1,
   "metadata": {},
   "outputs": [],
   "source": [
    "%load_ext lab_black"
   ]
  },
  {
   "cell_type": "code",
   "execution_count": 2,
   "metadata": {},
   "outputs": [],
   "source": [
    "import pandas as pd\n",
    "\n",
    "from sklearn.model_selection import train_test_split\n",
    "from sklearn.metrics import mean_squared_error\n",
    "from sklearn.preprocessing import OneHotEncoder\n",
    "from sklearn.compose import ColumnTransformer\n",
    "from sklearn.linear_model import LinearRegression\n",
    "from sklearn.tree import DecisionTreeRegressor\n",
    "from sklearn.ensemble import RandomForestRegressor\n",
    "from sklearn.svm import LinearSVR\n",
    "from sklearn.pipeline import make_pipeline\n",
    "\n",
    "from sklearn.model_selection import cross_validate\n",
    "from sklearn.model_selection import KFold"
   ]
  },
  {
   "cell_type": "code",
   "execution_count": 3,
   "metadata": {},
   "outputs": [],
   "source": [
    "df = pd.read_csv(\"heart_disease_data.csv\")"
   ]
  },
  {
   "cell_type": "code",
   "execution_count": 4,
   "metadata": {},
   "outputs": [],
   "source": [
    "df = df.assign(sex=lambda df: df[\"sex\"].replace({0: \"male\", 1: \"female\"}))"
   ]
  },
  {
   "cell_type": "code",
   "execution_count": 5,
   "metadata": {},
   "outputs": [],
   "source": [
    "# thal: 0 = normal; 1 = fixed defect; 2 = reversable defect\n",
    "df = df.assign(\n",
    "    thal=lambda df: df[\"thal\"].replace(\n",
    "        {0: \"normal\", 1: \"fixed defect\", 2: \"reversible defect\"}\n",
    "    )\n",
    ")"
   ]
  },
  {
   "cell_type": "code",
   "execution_count": 6,
   "metadata": {},
   "outputs": [],
   "source": [
    "# cp: chest pain type\n",
    "df = df.assign(\n",
    "    cp=lambda df: df[\"cp\"].replace(\n",
    "        {\n",
    "            0: \"typical angina\",\n",
    "            1: \"atypical angina\",\n",
    "            2: \"non-anginal pain\",\n",
    "            3: \"asymptomatic\",\n",
    "        }\n",
    "    )\n",
    ")"
   ]
  },
  {
   "cell_type": "code",
   "execution_count": 7,
   "metadata": {},
   "outputs": [],
   "source": [
    "# fbs: (fasting blood sugar > 120 mg/dl) (1 = true; 0 = false)\n",
    "df = df.assign(fbs=lambda df: df[\"fbs\"].replace({0: \"false\", 1: \"true\"}))"
   ]
  },
  {
   "cell_type": "code",
   "execution_count": 8,
   "metadata": {},
   "outputs": [],
   "source": [
    "# restecg: resting electrocardiographic results\n",
    "df = df.assign(\n",
    "    restecg=lambda df: df[\"restecg\"].replace(\n",
    "        {0: \"normal\", 1: \"ST-T wave abnormality\", 2: \"left ventricular hypertrophy\"}\n",
    "    )\n",
    ")"
   ]
  },
  {
   "cell_type": "code",
   "execution_count": 9,
   "metadata": {},
   "outputs": [],
   "source": [
    "# exang: exercise induced angina (1 = yes; 0 = no)\n",
    "df = df.assign(exang=lambda df: df[\"exang\"].replace({0: \"no\", 1: \"yes\"}))"
   ]
  },
  {
   "cell_type": "code",
   "execution_count": 10,
   "metadata": {},
   "outputs": [],
   "source": [
    "# slope: the slope of the peak exercise ST segment\n",
    "df = df.assign(\n",
    "    restecg=lambda df: df[\"restecg\"].replace(\n",
    "        {0: \"upsloping\", 1: \"flat\", 2: \"downsloping\"}\n",
    "    )\n",
    ")"
   ]
  },
  {
   "cell_type": "code",
   "execution_count": 11,
   "metadata": {},
   "outputs": [],
   "source": [
    "target = \"condition\""
   ]
  },
  {
   "cell_type": "code",
   "execution_count": 12,
   "metadata": {},
   "outputs": [],
   "source": [
    "X = df.drop(target, axis=1)\n",
    "y = df[target].values"
   ]
  },
  {
   "cell_type": "code",
   "execution_count": 13,
   "metadata": {},
   "outputs": [
    {
     "data": {
      "text/plain": [
       "Index(['age', 'sex', 'cp', 'trestbps', 'chol', 'fbs', 'restecg', 'thalach',\n",
       "       'exang', 'oldpeak', 'slope', 'ca', 'thal'],\n",
       "      dtype='object')"
      ]
     },
     "execution_count": 13,
     "metadata": {},
     "output_type": "execute_result"
    }
   ],
   "source": [
    "X.columns"
   ]
  },
  {
   "cell_type": "code",
   "execution_count": 21,
   "metadata": {},
   "outputs": [],
   "source": [
    "cf = ColumnTransformer(\n",
    "    [\n",
    "        (\n",
    "            \"numerical\",\n",
    "            \"passthrough\",\n",
    "            [\"age\", \"trestbps\", \"chol\", \"thalach\", \"oldpeak\", \"ca\",],\n",
    "        ),\n",
    "        (\n",
    "            \"categorical\",\n",
    "            OneHotEncoder(drop=\"first\"),\n",
    "            [\"thal\", \"sex\", \"cp\", \"fbs\", \"restecg\", \"exang\", \"slope\",],\n",
    "        ),\n",
    "    ]\n",
    ")"
   ]
  },
  {
   "cell_type": "code",
   "execution_count": 15,
   "metadata": {},
   "outputs": [],
   "source": [
    "lr_pipeline = make_pipeline(cf, LinearRegression())\n",
    "dt_pipeline = make_pipeline(cf, DecisionTreeRegressor())\n",
    "rf_pipeline = make_pipeline(cf, RandomForestRegressor())"
   ]
  },
  {
   "cell_type": "code",
   "execution_count": 16,
   "metadata": {},
   "outputs": [
    {
     "data": {
      "text/plain": [
       "Pipeline(steps=[('columntransformer',\n",
       "                 ColumnTransformer(transformers=[('numerical', 'passthrough',\n",
       "                                                  ['age', 'trestbps', 'chol',\n",
       "                                                   'thalach', 'oldpeak',\n",
       "                                                   'ca']),\n",
       "                                                 ('categorical',\n",
       "                                                  OneHotEncoder(drop='first'),\n",
       "                                                  ['thal', 'sex', 'cp', 'fbs',\n",
       "                                                   'restecg', 'exang',\n",
       "                                                   'slope'])])),\n",
       "                ('linearregression', LinearRegression())])"
      ]
     },
     "execution_count": 16,
     "metadata": {},
     "output_type": "execute_result"
    }
   ],
   "source": [
    "lr_pipeline.fit(X, y)"
   ]
  },
  {
   "cell_type": "code",
   "execution_count": 17,
   "metadata": {},
   "outputs": [
    {
     "data": {
      "text/plain": [
       "KFold(n_splits=6, random_state=42, shuffle=True)"
      ]
     },
     "execution_count": 17,
     "metadata": {},
     "output_type": "execute_result"
    }
   ],
   "source": [
    "k_fold = KFold(n_splits=6, shuffle=True, random_state=42)\n",
    "k_fold"
   ]
  },
  {
   "cell_type": "code",
   "execution_count": 18,
   "metadata": {},
   "outputs": [
    {
     "data": {
      "text/plain": [
       "-0.1277330014062823"
      ]
     },
     "execution_count": 18,
     "metadata": {},
     "output_type": "execute_result"
    }
   ],
   "source": [
    "cv_lr = cross_validate(lr_pipeline, X, y, scoring=\"neg_mean_squared_error\", cv=k_fold)[\n",
    "    \"test_score\"\n",
    "].mean()\n",
    "cv_lr"
   ]
  },
  {
   "cell_type": "code",
   "execution_count": 19,
   "metadata": {},
   "outputs": [
    {
     "data": {
      "text/plain": [
       "-0.2895918367346939"
      ]
     },
     "execution_count": 19,
     "metadata": {},
     "output_type": "execute_result"
    }
   ],
   "source": [
    "cv_dt = cross_validate(dt_pipeline, X, y, scoring=\"neg_mean_squared_error\", cv=k_fold)[\n",
    "    \"test_score\"\n",
    "].mean()\n",
    "cv_dt"
   ]
  },
  {
   "cell_type": "code",
   "execution_count": 20,
   "metadata": {},
   "outputs": [
    {
     "data": {
      "text/plain": [
       "-0.13840003401360543"
      ]
     },
     "execution_count": 20,
     "metadata": {},
     "output_type": "execute_result"
    }
   ],
   "source": [
    "cv_rf = cross_validate(rf_pipeline, X, y, scoring=\"neg_mean_squared_error\", cv=k_fold)[\n",
    "    \"test_score\"\n",
    "].mean()\n",
    "cv_rf"
   ]
  },
  {
   "cell_type": "code",
   "execution_count": null,
   "metadata": {},
   "outputs": [],
   "source": []
  }
 ],
 "metadata": {
  "environment": {
   "name": "common-cpu.m54",
   "type": "gcloud",
   "uri": "gcr.io/deeplearning-platform-release/base-cpu:m54"
  },
  "kernelspec": {
   "display_name": "Python 3",
   "language": "python",
   "name": "python3"
  },
  "language_info": {
   "codemirror_mode": {
    "name": "ipython",
    "version": 3
   },
   "file_extension": ".py",
   "mimetype": "text/x-python",
   "name": "python",
   "nbconvert_exporter": "python",
   "pygments_lexer": "ipython3",
   "version": "3.7.8"
  }
 },
 "nbformat": 4,
 "nbformat_minor": 4
}
